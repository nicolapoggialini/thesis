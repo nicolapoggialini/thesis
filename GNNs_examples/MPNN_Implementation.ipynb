{
  "nbformat": 4,
  "nbformat_minor": 0,
  "metadata": {
    "colab": {
      "name": "MPNN Implementation.ipynb",
      "provenance": [],
      "include_colab_link": true
    },
    "kernelspec": {
      "name": "python3",
      "display_name": "Python 3"
    },
    "language_info": {
      "name": "python"
    },
    "accelerator": "GPU"
  },
  "cells": [
    {
      "cell_type": "markdown",
      "metadata": {
        "id": "view-in-github",
        "colab_type": "text"
      },
      "source": [
        "<a href=\"https://colab.research.google.com/github/nicolapoggialini/thesis/blob/main/GNNs_examples/MPNN_Implementation.ipynb\" target=\"_parent\"><img src=\"https://colab.research.google.com/assets/colab-badge.svg\" alt=\"Open In Colab\"/></a>"
      ]
    },
    {
      "cell_type": "markdown",
      "source": [
        "# MPNN on MNIST\n",
        "\n",
        "This notebook accompanies my blog on Graph Neural Networks and takes inspiration from PyTorch Geometric tutorial."
      ],
      "metadata": {
        "id": "58a-5AbwyT1h"
      }
    },
    {
      "cell_type": "code",
      "source": [
        "!pip install torch-scatter -f https://data.pyg.org/whl/torch-1.10.0+cu111.html\n",
        "!pip install torch-sparse -f https://data.pyg.org/whl/torch-1.10.0+cu111.html\n",
        "!pip install torch-geometric\n",
        "!pip install torch-cluster -f https://data.pyg.org/whl/torch-1.10.0+cu111.html\n",
        "!pip install torch-spline-conv -f https://data.pyg.org/whl/torch-1.10.0+cu111.html"
      ],
      "metadata": {
        "colab": {
          "base_uri": "https://localhost:8080/"
        },
        "id": "fhW1MVyvxPdS",
        "outputId": "6d55bbc6-34a6-4fc3-9d88-91d4fda5f6d4"
      },
      "execution_count": null,
      "outputs": [
        {
          "output_type": "stream",
          "name": "stdout",
          "text": [
            "Looking in links: https://data.pyg.org/whl/torch-1.10.0+cu111.html\n",
            "Collecting torch-scatter\n",
            "  Downloading https://data.pyg.org/whl/torch-1.10.0%2Bcu113/torch_scatter-2.0.9-cp37-cp37m-linux_x86_64.whl (7.9 MB)\n",
            "\u001b[K     |████████████████████████████████| 7.9 MB 5.3 MB/s \n",
            "\u001b[?25hInstalling collected packages: torch-scatter\n",
            "Successfully installed torch-scatter-2.0.9\n",
            "Looking in links: https://data.pyg.org/whl/torch-1.10.0+cu111.html\n",
            "Collecting torch-sparse\n",
            "  Downloading https://data.pyg.org/whl/torch-1.10.0%2Bcu113/torch_sparse-0.6.12-cp37-cp37m-linux_x86_64.whl (3.5 MB)\n",
            "\u001b[K     |████████████████████████████████| 3.5 MB 4.9 MB/s \n",
            "\u001b[?25hRequirement already satisfied: scipy in /usr/local/lib/python3.7/dist-packages (from torch-sparse) (1.4.1)\n",
            "Requirement already satisfied: numpy>=1.13.3 in /usr/local/lib/python3.7/dist-packages (from scipy->torch-sparse) (1.19.5)\n",
            "Installing collected packages: torch-sparse\n",
            "Successfully installed torch-sparse-0.6.12\n",
            "Collecting torch-geometric\n",
            "  Downloading torch_geometric-2.0.3.tar.gz (370 kB)\n",
            "\u001b[K     |████████████████████████████████| 370 kB 5.3 MB/s \n",
            "\u001b[?25hRequirement already satisfied: numpy in /usr/local/lib/python3.7/dist-packages (from torch-geometric) (1.19.5)\n",
            "Requirement already satisfied: tqdm in /usr/local/lib/python3.7/dist-packages (from torch-geometric) (4.62.3)\n",
            "Requirement already satisfied: scipy in /usr/local/lib/python3.7/dist-packages (from torch-geometric) (1.4.1)\n",
            "Requirement already satisfied: networkx in /usr/local/lib/python3.7/dist-packages (from torch-geometric) (2.6.3)\n",
            "Requirement already satisfied: scikit-learn in /usr/local/lib/python3.7/dist-packages (from torch-geometric) (1.0.2)\n",
            "Requirement already satisfied: requests in /usr/local/lib/python3.7/dist-packages (from torch-geometric) (2.23.0)\n",
            "Requirement already satisfied: pandas in /usr/local/lib/python3.7/dist-packages (from torch-geometric) (1.1.5)\n",
            "Collecting rdflib\n",
            "  Downloading rdflib-6.1.1-py3-none-any.whl (482 kB)\n",
            "\u001b[K     |████████████████████████████████| 482 kB 39.0 MB/s \n",
            "\u001b[?25hRequirement already satisfied: googledrivedownloader in /usr/local/lib/python3.7/dist-packages (from torch-geometric) (0.4)\n",
            "Requirement already satisfied: jinja2 in /usr/local/lib/python3.7/dist-packages (from torch-geometric) (2.11.3)\n",
            "Requirement already satisfied: pyparsing in /usr/local/lib/python3.7/dist-packages (from torch-geometric) (3.0.7)\n",
            "Collecting yacs\n",
            "  Downloading yacs-0.1.8-py3-none-any.whl (14 kB)\n",
            "Requirement already satisfied: PyYAML in /usr/local/lib/python3.7/dist-packages (from torch-geometric) (3.13)\n",
            "Requirement already satisfied: MarkupSafe>=0.23 in /usr/local/lib/python3.7/dist-packages (from jinja2->torch-geometric) (2.0.1)\n",
            "Requirement already satisfied: pytz>=2017.2 in /usr/local/lib/python3.7/dist-packages (from pandas->torch-geometric) (2018.9)\n",
            "Requirement already satisfied: python-dateutil>=2.7.3 in /usr/local/lib/python3.7/dist-packages (from pandas->torch-geometric) (2.8.2)\n",
            "Requirement already satisfied: six>=1.5 in /usr/local/lib/python3.7/dist-packages (from python-dateutil>=2.7.3->pandas->torch-geometric) (1.15.0)\n",
            "Requirement already satisfied: setuptools in /usr/local/lib/python3.7/dist-packages (from rdflib->torch-geometric) (57.4.0)\n",
            "Requirement already satisfied: importlib-metadata in /usr/local/lib/python3.7/dist-packages (from rdflib->torch-geometric) (4.10.1)\n",
            "Collecting isodate\n",
            "  Downloading isodate-0.6.1-py2.py3-none-any.whl (41 kB)\n",
            "\u001b[K     |████████████████████████████████| 41 kB 619 kB/s \n",
            "\u001b[?25hRequirement already satisfied: zipp>=0.5 in /usr/local/lib/python3.7/dist-packages (from importlib-metadata->rdflib->torch-geometric) (3.7.0)\n",
            "Requirement already satisfied: typing-extensions>=3.6.4 in /usr/local/lib/python3.7/dist-packages (from importlib-metadata->rdflib->torch-geometric) (3.10.0.2)\n",
            "Requirement already satisfied: urllib3!=1.25.0,!=1.25.1,<1.26,>=1.21.1 in /usr/local/lib/python3.7/dist-packages (from requests->torch-geometric) (1.24.3)\n",
            "Requirement already satisfied: chardet<4,>=3.0.2 in /usr/local/lib/python3.7/dist-packages (from requests->torch-geometric) (3.0.4)\n",
            "Requirement already satisfied: idna<3,>=2.5 in /usr/local/lib/python3.7/dist-packages (from requests->torch-geometric) (2.10)\n",
            "Requirement already satisfied: certifi>=2017.4.17 in /usr/local/lib/python3.7/dist-packages (from requests->torch-geometric) (2021.10.8)\n",
            "Requirement already satisfied: threadpoolctl>=2.0.0 in /usr/local/lib/python3.7/dist-packages (from scikit-learn->torch-geometric) (3.0.0)\n",
            "Requirement already satisfied: joblib>=0.11 in /usr/local/lib/python3.7/dist-packages (from scikit-learn->torch-geometric) (1.1.0)\n",
            "Building wheels for collected packages: torch-geometric\n",
            "  Building wheel for torch-geometric (setup.py) ... \u001b[?25l\u001b[?25hdone\n",
            "  Created wheel for torch-geometric: filename=torch_geometric-2.0.3-py3-none-any.whl size=581968 sha256=c2cb2595de52264e3619c6366c66fdd870c38138794ae720e626e2d09ea4062d\n",
            "  Stored in directory: /root/.cache/pip/wheels/c3/2a/58/87ce0508964d4def1aafb92750c4f3ac77038efd1b9a89dcf5\n",
            "Successfully built torch-geometric\n",
            "Installing collected packages: isodate, yacs, rdflib, torch-geometric\n",
            "Successfully installed isodate-0.6.1 rdflib-6.1.1 torch-geometric-2.0.3 yacs-0.1.8\n",
            "Looking in links: https://data.pyg.org/whl/torch-1.10.0+cu111.html\n",
            "Collecting torch-cluster\n",
            "  Downloading https://data.pyg.org/whl/torch-1.10.0%2Bcu113/torch_cluster-1.5.9-cp37-cp37m-linux_x86_64.whl (2.3 MB)\n",
            "\u001b[K     |████████████████████████████████| 2.3 MB 5.4 MB/s \n",
            "\u001b[?25hInstalling collected packages: torch-cluster\n",
            "Successfully installed torch-cluster-1.5.9\n",
            "Looking in links: https://data.pyg.org/whl/torch-1.10.0+cu111.html\n",
            "Collecting torch-spline-conv\n",
            "  Downloading https://data.pyg.org/whl/torch-1.10.0%2Bcu113/torch_spline_conv-1.2.1-cp37-cp37m-linux_x86_64.whl (747 kB)\n",
            "\u001b[K     |████████████████████████████████| 747 kB 5.1 MB/s \n",
            "\u001b[?25hInstalling collected packages: torch-spline-conv\n",
            "Successfully installed torch-spline-conv-1.2.1\n"
          ]
        }
      ]
    },
    {
      "cell_type": "code",
      "execution_count": null,
      "metadata": {
        "id": "A156PevHxCsy"
      },
      "outputs": [],
      "source": [
        "import torch\n",
        "import torch.nn as nn\n",
        "import torch.nn.functional as F\n",
        "\n",
        "import torch_geometric.transforms as T\n",
        "from torch_geometric.datasets import MNISTSuperpixels\n",
        "from torch_geometric.loader import DataLoader\n",
        "from torch_geometric.nn import NNConv, global_mean_pool, graclus, max_pool, max_pool_x\n",
        "from torch_geometric.utils import normalized_cut"
      ]
    },
    {
      "cell_type": "code",
      "source": [
        "transform = T.Cartesian(cat=False)\n",
        "train_dataset = MNISTSuperpixels(\".\", True, transform=transform)\n",
        "test_dataset = MNISTSuperpixels(\".\", False, transform=transform)\n",
        "train_loader = DataLoader(train_dataset, batch_size=64, shuffle=True)\n",
        "test_loader = DataLoader(test_dataset, batch_size=64, shuffle=False)\n",
        "d = train_dataset"
      ],
      "metadata": {
        "colab": {
          "base_uri": "https://localhost:8080/"
        },
        "id": "_OCCaUd5xWP8",
        "outputId": "526b501a-8adc-4687-ee6a-2cd8f4c159f7"
      },
      "execution_count": null,
      "outputs": [
        {
          "output_type": "stream",
          "name": "stderr",
          "text": [
            "Downloading https://data.pyg.org/datasets/MNISTSuperpixels.zip\n",
            "Extracting ./raw/MNISTSuperpixels.zip\n",
            "Processing...\n",
            "Done!\n"
          ]
        }
      ]
    },
    {
      "cell_type": "code",
      "source": [
        "def normalized_cut_2d(edge_index, pos):\n",
        "    row, col = edge_index\n",
        "    edge_attr = torch.norm(pos[row] - pos[col], p=2, dim=1)\n",
        "    return normalized_cut(edge_index, edge_attr, num_nodes=pos.size(0))\n",
        "\n",
        "\n",
        "class Net(nn.Module):\n",
        "    def __init__(self):\n",
        "        super().__init__()\n",
        "        nn1 = nn.Sequential(nn.Linear(2, 25), nn.ReLU(),\n",
        "                            nn.Linear(25, d.num_features * 32))\n",
        "        self.conv1 = NNConv(d.num_features, 32, nn1, aggr='mean')\n",
        "\n",
        "        nn2 = nn.Sequential(nn.Linear(2, 25), nn.ReLU(),\n",
        "                            nn.Linear(25, 32 * 64))\n",
        "        self.conv2 = NNConv(32, 64, nn2, aggr='mean')\n",
        "\n",
        "        self.fc1 = torch.nn.Linear(64, 128)\n",
        "        self.fc2 = torch.nn.Linear(128, d.num_classes)\n",
        "\n",
        "    def forward(self, data):\n",
        "        data.x = F.elu(self.conv1(data.x, data.edge_index, data.edge_attr))\n",
        "        weight = normalized_cut_2d(data.edge_index, data.pos)\n",
        "        cluster = graclus(data.edge_index, weight, data.x.size(0))\n",
        "        data.edge_attr = None\n",
        "        data = max_pool(cluster, data, transform=transform)\n",
        "\n",
        "        data.x = F.elu(self.conv2(data.x, data.edge_index, data.edge_attr))\n",
        "        weight = normalized_cut_2d(data.edge_index, data.pos)\n",
        "        cluster = graclus(data.edge_index, weight, data.x.size(0))\n",
        "        x, batch = max_pool_x(cluster, data.x, data.batch)\n",
        "\n",
        "        x = global_mean_pool(x, batch)\n",
        "        x = F.elu(self.fc1(x))\n",
        "        x = F.dropout(x, training=self.training)\n",
        "        return F.log_softmax(self.fc2(x), dim=1)"
      ],
      "metadata": {
        "id": "7rUz8Dm7xp60"
      },
      "execution_count": null,
      "outputs": []
    },
    {
      "cell_type": "code",
      "source": [
        "device = torch.device('cuda' if torch.cuda.is_available() else 'cpu')\n",
        "model = Net().to(device)\n",
        "optimizer = torch.optim.Adam(model.parameters(), lr=0.01)\n",
        "\n",
        "\n",
        "def train(epoch):\n",
        "    model.train()\n",
        "\n",
        "    if epoch == 16:\n",
        "        for param_group in optimizer.param_groups:\n",
        "            param_group['lr'] = 0.001\n",
        "\n",
        "    if epoch == 26:\n",
        "        for param_group in optimizer.param_groups:\n",
        "            param_group['lr'] = 0.0001\n",
        "\n",
        "    for data in train_loader:\n",
        "        data = data.to(device)\n",
        "        optimizer.zero_grad()\n",
        "        F.nll_loss(model(data), data.y).backward()\n",
        "        optimizer.step()\n",
        "\n",
        "\n",
        "def test():\n",
        "    model.eval()\n",
        "    correct = 0\n",
        "\n",
        "    for data in test_loader:\n",
        "        data = data.to(device)\n",
        "        pred = model(data).max(1)[1]\n",
        "        correct += pred.eq(data.y).sum().item()\n",
        "    return correct / len(test_dataset)\n",
        "\n",
        "\n",
        "for epoch in range(1, 31):\n",
        "    train(epoch)\n",
        "    test_acc = test()\n",
        "    print(f'Epoch: {epoch:02d}, Test: {test_acc:.4f}')"
      ],
      "metadata": {
        "colab": {
          "base_uri": "https://localhost:8080/"
        },
        "id": "qzG64xwUxt8q",
        "outputId": "0878c30a-5fdc-4b85-bc6e-b7e8ab4f0354"
      },
      "execution_count": null,
      "outputs": [
        {
          "output_type": "stream",
          "name": "stdout",
          "text": [
            "Epoch: 01, Test: 0.6488\n",
            "Epoch: 02, Test: 0.7352\n",
            "Epoch: 03, Test: 0.7931\n",
            "Epoch: 04, Test: 0.8408\n",
            "Epoch: 05, Test: 0.8572\n",
            "Epoch: 06, Test: 0.8607\n",
            "Epoch: 07, Test: 0.8675\n",
            "Epoch: 08, Test: 0.8744\n",
            "Epoch: 09, Test: 0.8847\n",
            "Epoch: 10, Test: 0.8830\n",
            "Epoch: 11, Test: 0.9006\n",
            "Epoch: 12, Test: 0.9007\n",
            "Epoch: 13, Test: 0.8981\n",
            "Epoch: 14, Test: 0.8736\n",
            "Epoch: 15, Test: 0.9032\n",
            "Epoch: 16, Test: 0.9290\n",
            "Epoch: 17, Test: 0.9276\n",
            "Epoch: 18, Test: 0.9264\n",
            "Epoch: 19, Test: 0.9320\n",
            "Epoch: 20, Test: 0.9314\n",
            "Epoch: 21, Test: 0.9314\n",
            "Epoch: 22, Test: 0.9318\n",
            "Epoch: 23, Test: 0.9328\n",
            "Epoch: 24, Test: 0.9318\n",
            "Epoch: 25, Test: 0.9342\n",
            "Epoch: 26, Test: 0.9369\n",
            "Epoch: 27, Test: 0.9343\n",
            "Epoch: 28, Test: 0.9347\n",
            "Epoch: 29, Test: 0.9342\n",
            "Epoch: 30, Test: 0.9355\n"
          ]
        }
      ]
    }
  ]
}